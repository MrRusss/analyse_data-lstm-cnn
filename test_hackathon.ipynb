{
 "cells": [
  {
   "cell_type": "code",
   "execution_count": 97,
   "metadata": {},
   "outputs": [],
   "source": [
    "import numpy as np\n",
    "import pandas as pd\n",
    "import tensorflow as tf\n",
    "import math\n",
    "from PIL import Image\n",
    "import cv2\n",
    "import os\n",
    "import matplotlib.pyplot as plt\n",
    "import pandas as pd"
   ]
  },
  {
   "cell_type": "code",
   "execution_count": 98,
   "metadata": {},
   "outputs": [],
   "source": [
    "def label_img(name, folder):\n",
    "    if folder!= 'pictures/data_vlad':\n",
    "        word_label = list(name)[0]\n",
    "    else:\n",
    "        word_label = list(name)[-5]\n",
    "    return word_label\n"
   ]
  },
  {
   "cell_type": "code",
   "execution_count": 99,
   "metadata": {},
   "outputs": [],
   "source": [
    "import random\n",
    "IMG_SIZE = 28\n",
    "DIR = ['pictures/data_rus', 'pictures/data_yar', 'pictures/data_max', 'pictures/data_vlad']\n",
    "def load_training_data():\n",
    "    k=0\n",
    "    train_data = []\n",
    "    labels = []\n",
    "    for folder in DIR:\n",
    "        for img in os.listdir(str(folder)):\n",
    "            label = label_img(img, folder)\n",
    "            path = os.path.join(str(folder), img)\n",
    "            img = Image.open(path)\n",
    "            img = img.convert('L')\n",
    "            img = img.resize((IMG_SIZE, IMG_SIZE), Image.ANTIALIAS)\n",
    "            k+=1\n",
    "#             img.save('pictures/lol/niga'+str(k)+'.jpg')\n",
    "            \n",
    "            train_data.append(np.array(img))\n",
    "            labels.append(label)\n",
    "            # Basic Data Augmentation - Horizontal Flipping and Vertical Flipping\n",
    "            flip_img = Image.open(path)\n",
    "            flip_img = flip_img.convert('L')\n",
    "            flip_img = flip_img.resize((IMG_SIZE, IMG_SIZE), Image.ANTIALIAS)\n",
    "            flip_img1 = np.array(flip_img)\n",
    "            \n",
    "            flip_img = np.flip(flip_img1,axis=0)\n",
    "            train_data.append(flip_img)\n",
    "            labels.append(label)\n",
    "\n",
    "    #     random.shuffle(train_data)\n",
    "    train_data = np.array(train_data)\n",
    "    return train_data, labels\n",
    "data, labels = load_training_data()"
   ]
  },
  {
   "cell_type": "code",
   "execution_count": 100,
   "metadata": {},
   "outputs": [
    {
     "data": {
      "text/plain": [
       "{'1', '2', '3', '4', '5', '6', '7', '8'}"
      ]
     },
     "execution_count": 100,
     "metadata": {},
     "output_type": "execute_result"
    }
   ],
   "source": [
    "set(labels)"
   ]
  },
  {
   "cell_type": "code",
   "execution_count": 101,
   "metadata": {},
   "outputs": [],
   "source": [
    "def augment_images(data, labels, copies = 1, rotation=True, shear=True, shift=True, zoom=True):\n",
    "    augmented_data = []\n",
    "    augmented_labels = []\n",
    "    \n",
    "    for i in range (0, np.shape(labels)[0]):\n",
    "        augmented_data.append(data[i])\n",
    "        augmented_labels.append(labels[i])\n",
    "        \n",
    "        for j in range(1, copies):            \n",
    "            img = data[i]\n",
    "            lbl = labels[i]\n",
    "                        \n",
    "            if (rotation):\n",
    "                img = tf.contrib.keras.preprocessing.image.random_rotation(img, 15, row_axis=0, col_axis=1, channel_axis=2)\n",
    "            if (shear):\n",
    "                img = tf.contrib.keras.preprocessing.image.random_shear(img, 0.1, row_axis=0, col_axis=1, channel_axis=2)\n",
    "            if (shift):\n",
    "                img = tf.contrib.keras.preprocessing.image.random_shift(img, 0.15, 0.15, row_axis=0, col_axis=1, channel_axis=2)\n",
    "            if (zoom):\n",
    "                img = tf.contrib.keras.preprocessing.image.random_zoom(img, (0.9, 1.1), row_axis=0, col_axis=1, channel_axis=2)\n",
    "            \n",
    "            augmented_data.append(img)\n",
    "            augmented_labels.append(lbl)\n",
    "    \n",
    "    return np.array(augmented_data), np.array(augmented_labels)"
   ]
  },
  {
   "cell_type": "code",
   "execution_count": 102,
   "metadata": {},
   "outputs": [],
   "source": [
    "X = data.reshape(-1, 28, 28, 1).astype(np.float32)\n",
    "X /= 255.0"
   ]
  },
  {
   "cell_type": "code",
   "execution_count": 103,
   "metadata": {},
   "outputs": [],
   "source": [
    "data_, labels_ = augment_images(X, labels, copies=10,zoom=False)"
   ]
  },
  {
   "cell_type": "code",
   "execution_count": 104,
   "metadata": {},
   "outputs": [],
   "source": [
    "from sklearn.model_selection import train_test_split"
   ]
  },
  {
   "cell_type": "code",
   "execution_count": 105,
   "metadata": {},
   "outputs": [],
   "source": [
    "X_train, X_valid, Y_train, Y_valid = train_test_split(data_, labels_, test_size=0.1, random_state = 42)\n"
   ]
  },
  {
   "cell_type": "code",
   "execution_count": 106,
   "metadata": {},
   "outputs": [],
   "source": [
    "import pandas as pd\n",
    "Y_train = np.array(pd.get_dummies(Y_train))\n",
    "Y_valid = np.array(pd.get_dummies(Y_valid))"
   ]
  },
  {
   "cell_type": "code",
   "execution_count": 107,
   "metadata": {},
   "outputs": [],
   "source": [
    "num_channels = 1\n",
    "num_labels = 8\n",
    "X_test = X_valid\n",
    "graph = tf.Graph()\n",
    "with graph.as_default():\n",
    "    \n",
    "    X = tf.placeholder(tf.float32, shape=(None,28,28,num_channels))\n",
    "    Y_ = tf.placeholder(tf.float32, shape=(None,num_labels))\n",
    "    tf_step = tf.placeholder(tf.float32)\n",
    "    tf_pkeep = tf.placeholder(tf.float32)\n",
    "    \n",
    "    tf_test_dataset = tf.constant(X_test)\n",
    "    \n",
    "    K = 6  # first convolutional layer output depth\n",
    "    L = 12  # second convolutional layer output depth\n",
    "    M = 24  # third convolutional layer output depth\n",
    "    N = 200  # fully connected layer\n",
    "\n",
    "    W1 = tf.Variable(tf.truncated_normal([6, 6, 1, K], stddev=0.1))  # 6x6 patch, 1 input channel, K output channels\n",
    "    B1 = tf.Variable(tf.constant(0.1, tf.float32, [K]))\n",
    "    W2 = tf.Variable(tf.truncated_normal([5, 5, K, L], stddev=0.1))\n",
    "    B2 = tf.Variable(tf.constant(0.1, tf.float32, [L]))\n",
    "    W3 = tf.Variable(tf.truncated_normal([4, 4, L, M], stddev=0.1))\n",
    "    B3 = tf.Variable(tf.constant(0.1, tf.float32, [M]))\n",
    "    W4 = tf.Variable(tf.truncated_normal([7 * 7 * M, N], stddev=0.1))\n",
    "    B4 = tf.Variable(tf.constant(0.1, tf.float32, [N]))\n",
    "    W5 = tf.Variable(tf.truncated_normal([N, 8], stddev=0.1))\n",
    "    B5 = tf.Variable(tf.constant(0.1, tf.float32, [8]))\n",
    "    \n",
    "    def model(data):\n",
    "        Y1 = tf.nn.relu(tf.nn.conv2d(data, W1, strides=[1, 1, 1, 1], padding='SAME') + B1) # output is 28x28\n",
    "        Y2 = tf.nn.relu(tf.nn.conv2d(Y1, W2, strides=[1, 2, 2, 1], padding='SAME') + B2) # output is 14x14\n",
    "        Y3 = tf.nn.relu(tf.nn.conv2d(Y2, W3, strides=[1, 2, 2, 1], padding='SAME') + B3)  # output is 7x7\n",
    "        Y3_flat = tf.reshape(Y3, shape=[-1, 7 * 7 * M])\n",
    "        Y4 = tf.nn.dropout(tf.nn.relu(tf.matmul(Y3_flat, W4) + B4), tf_pkeep)\n",
    "        return tf.matmul(Y4, W5) + B5\n",
    "    \n",
    "    logits = model(X)\n",
    "    loss = tf.reduce_mean(tf.nn.softmax_cross_entropy_with_logits_v2(logits=logits, labels=Y_))*100\n",
    "    \n",
    "    lr = 0.0001 + tf.train.exponential_decay(0.005, tf_step, 2000, 1/math.e)\n",
    "    optimizer = tf.train.AdamOptimizer(lr).minimize(loss)   \n",
    "    \n",
    "    Y = tf.nn.softmax(logits)\n",
    "    Y_test = tf.nn.softmax(model(tf_test_dataset))\n",
    "    \n",
    "    accuracy = tf.reduce_mean(tf.cast(tf.equal(tf.argmax(Y, 1), tf.argmax(Y_, 1)), tf.float32))\n"
   ]
  },
  {
   "cell_type": "code",
   "execution_count": 1,
   "metadata": {},
   "outputs": [],
   "source": [
    "num_steps = 3000\n",
    "batch_size = 64\n",
    "\n",
    "\n",
    "\n",
    "with tf.Session(graph=graph) as session:\n",
    "    tf.global_variables_initializer().run()\n",
    "    \n",
    "    for step in range(num_steps):\n",
    "        offset = (step * batch_size) % (Y_train.shape[0] - batch_size)\n",
    "        batch_data = X_train[offset:(offset + batch_size), :, :, :]\n",
    "        batch_labels = Y_train[offset:(offset + batch_size), :]\n",
    "        \n",
    "        if (step % 100 == 0):\n",
    "            a, l, r = session.run([accuracy, loss, lr], feed_dict={\n",
    "                X : batch_data, \n",
    "                Y_ : batch_labels,\n",
    "                tf_pkeep : 1.0,\n",
    "                tf_step : step\n",
    "            })\n",
    "            print(str(step) + \": accuracy: \" + str(a) + \" loss: \" + str(l) + \" (lr:\" + str(r) + \")\")\n",
    "        \n",
    "        if (step % 500 == 0):\n",
    "            a, l = session.run([accuracy, loss], feed_dict={\n",
    "                X : X_valid, \n",
    "                Y_ : Y_valid,\n",
    "                tf_pkeep : 1.0\n",
    "            })\n",
    "            print(str(step) + \": validation accuracy: \" + str(a) + \" validation loss: \" + str(l))        \n",
    "        \n",
    "        _, a, l, r = session.run([optimizer, accuracy, loss, lr], feed_dict={\n",
    "            X : batch_data, \n",
    "            Y_: batch_labels,\n",
    "            tf_pkeep : 0.75,\n",
    "            tf_step : step\n",
    "        })\n",
    "        "
   ]
  },
  {
   "cell_type": "code",
   "execution_count": 109,
   "metadata": {},
   "outputs": [
    {
     "data": {
      "text/plain": [
       "(64, 8)"
      ]
     },
     "execution_count": 109,
     "metadata": {},
     "output_type": "execute_result"
    }
   ],
   "source": [
    "batch_labels.shape"
   ]
  },
  {
   "cell_type": "code",
   "execution_count": null,
   "metadata": {},
   "outputs": [],
   "source": []
  }
 ],
 "metadata": {
  "kernelspec": {
   "display_name": "Python 3",
   "language": "python",
   "name": "python3"
  },
  "language_info": {
   "codemirror_mode": {
    "name": "ipython",
    "version": 3
   },
   "file_extension": ".py",
   "mimetype": "text/x-python",
   "name": "python",
   "nbconvert_exporter": "python",
   "pygments_lexer": "ipython3",
   "version": "3.6.5"
  }
 },
 "nbformat": 4,
 "nbformat_minor": 2
}
